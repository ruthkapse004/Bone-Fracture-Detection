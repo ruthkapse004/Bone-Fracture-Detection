{
  "cells": [
    {
      "cell_type": "code",
      "execution_count": null,
      "metadata": {
        "id": "N-tbUGRmKOEs"
      },
      "outputs": [],
      "source": [
        "# Import all the required libraries\n",
        "import os\n",
        "from keras.preprocessing import image\n",
        "import matplotlib.pyplot as plt\n",
        "import numpy as np\n",
        "from keras.utils.np_utils import to_categorical\n",
        "import random\n",
        "import shutil\n",
        "from keras.models import Sequential\n",
        "from keras.layers import Dropout, Conv2D, Flatten, Dense, MaxPooling2D, BatchNormalization\n",
        "from keras.models import load_model\n"
      ]
    },
    {
      "cell_type": "code",
      "execution_count": null,
      "metadata": {
        "id": "eZRsRo7AKOGu"
      },
      "outputs": [],
      "source": [
        "# Create the variables for test , train and validation directories and copy their path from the folder\n",
        "train_directory = 'Bone_Dataset/train'\n",
        "valid_directory = 'Bone_Dataset/valid'\n",
        "\n",
        "\n",
        "def generator(dir, gen=image.ImageDataGenerator(rescale=1./255), shuffle=True, batch_size=1, target_size=(224, 224), class_mode='categorical'):\n",
        "    return gen.flow_from_directory(dir, batch_size=batch_size, shuffle=shuffle, color_mode='grayscale', class_mode=class_mode, target_size=target_size)\n",
        "\n",
        "\n",
        "BS = 50\n",
        "TS = (224, 224)\n",
        "train_batch = generator(train_directory, shuffle=True,\n",
        "                        batch_size=BS, target_size=TS)\n",
        "valid_batch = generator(valid_directory, shuffle=True,\n",
        "                        batch_size=BS, target_size=TS)\n",
        "SPE = len(train_batch.classes)//BS\n",
        "VS = len(valid_batch.classes)//BS\n",
        "print(SPE, VS)\n"
      ]
    },
    {
      "cell_type": "code",
      "execution_count": null,
      "metadata": {
        "id": "omFyJHQ_KOL9"
      },
      "outputs": [],
      "source": [
        "model = Sequential([\n",
        "    Conv2D(32, kernel_size=(3, 3), activation='relu',\n",
        "           input_shape=(224, 224, 1)),\n",
        "    MaxPooling2D(pool_size=(1, 1)),\n",
        "    Conv2D(32, (3, 3), activation='relu'),\n",
        "    MaxPooling2D(pool_size=(1, 1)),\n",
        "    # 32 convolution filters used each of size 3x3\n",
        "    # again\n",
        "    Conv2D(64, (3, 3), activation='relu'),\n",
        "    MaxPooling2D(pool_size=(1, 1)),\n",
        "\n",
        "    # 64 convolution filters used each of size 3x3\n",
        "    # choose the best features via pooling\n",
        "\n",
        "    # randomly turn neurons on and off to improve convergence\n",
        "    Dropout(0.25),\n",
        "    # flatten since too many dimensions, we only want a classification output\n",
        "    Flatten(),\n",
        "    # fully connected to get all relevant data\n",
        "    Dense(128, activation='relu'),\n",
        "    # one more dropout for convergence' sake :)\n",
        "    Dropout(0.5),\n",
        "    # output a softmax to squash the matrix into output probabilities\n",
        "    Dense(2, activation='softmax')\n",
        "])\n",
        "\n",
        "# Summerize the model\n",
        "model.summary()"
      ]
    },
    {
      "cell_type": "code",
      "execution_count": null,
      "metadata": {},
      "outputs": [],
      "source": [
        "# compile the model to evaluate the performance of your model while training it\n",
        "model.compile(optimizer='adam',\n",
        "              loss='categorical_crossentropy',\n",
        "              metrics=['accuracy'])\n",
        "\n",
        "\n",
        "result = model.fit(train_batch, validation_data=valid_batch,\n",
        "                   epochs=5, steps_per_epoch=SPE, validation_steps=VS)\n",
        "\n",
        "model.save('./Model/bone_detect.h5')"
      ]
    }
  ],
  "metadata": {
    "colab": {
      "collapsed_sections": [],
      "provenance": []
    },
    "gpuClass": "standard",
    "kernelspec": {
      "display_name": "Python 3",
      "language": "python",
      "name": "python3"
    },
    "language_info": {
      "codemirror_mode": {
        "name": "ipython",
        "version": 3
      },
      "file_extension": ".py",
      "mimetype": "text/x-python",
      "name": "python",
      "nbconvert_exporter": "python",
      "pygments_lexer": "ipython3",
      "version": "3.9.8"
    },
    "vscode": {
      "interpreter": {
        "hash": "d8c8e1b705c09911a1e6de2a1e39a88cb0b043c371eb3cbb9a1060f5c4a897e9"
      }
    }
  },
  "nbformat": 4,
  "nbformat_minor": 0
}
